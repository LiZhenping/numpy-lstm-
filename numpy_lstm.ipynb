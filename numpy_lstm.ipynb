{
  "nbformat": 4,
  "nbformat_minor": 0,
  "metadata": {
    "kernelspec": {
      "display_name": "Python 3",
      "language": "python",
      "name": "python3"
    },
    "language_info": {
      "codemirror_mode": {
        "name": "ipython",
        "version": 3
      },
      "file_extension": ".py",
      "mimetype": "text/x-python",
      "name": "python",
      "nbconvert_exporter": "python",
      "pygments_lexer": "ipython3",
      "version": "3.6.1"
    },
    "colab": {
      "name": "numpy_lstm (4).ipynb",
      "provenance": [],
      "collapsed_sections": []
    }
  },
  "cells": [
    {
      "cell_type": "markdown",
      "metadata": {
        "collapsed": true,
        "id": "fHaTpMLdneR2",
        "colab_type": "text"
      },
      "source": [
        "### Imports"
      ]
    },
    {
      "cell_type": "code",
      "metadata": {
        "id": "wHdNs60yneR5",
        "colab_type": "code",
        "colab": {}
      },
      "source": [
        "import numpy as np\n",
        "%matplotlib inline\n",
        "import numpy as np\n",
        "import matplotlib.pyplot as plt\n",
        "from IPython import display\n",
        "import tensorflow as tf\n",
        "plt.style.use('seaborn-white')"
      ],
      "execution_count": 0,
      "outputs": []
    },
    {
      "cell_type": "markdown",
      "metadata": {
        "id": "u9uQaBkFneR8",
        "colab_type": "text"
      },
      "source": [
        "### Read and process data"
      ]
    },
    {
      "cell_type": "code",
      "metadata": {
        "id": "1llWj0rlneR8",
        "colab_type": "code",
        "colab": {
          "base_uri": "https://localhost:8080/",
          "height": 51
        },
        "outputId": "ea22f436-842f-4ef0-8b77-018643f3feb4"
      },
      "source": [
        "path_to_file = tf.keras.utils.get_file('shakespeare.txt', 'https://storage.googleapis.com/download.tensorflow.org/data/shakespeare.txt')\n",
        "data = open(path_to_file, 'rb').read().decode(encoding='utf-8')"
      ],
      "execution_count": 5,
      "outputs": [
        {
          "output_type": "stream",
          "text": [
            "Downloading data from https://storage.googleapis.com/download.tensorflow.org/data/shakespeare.txt\n",
            "1122304/1115394 [==============================] - 0s 0us/step\n"
          ],
          "name": "stdout"
        }
      ]
    },
    {
      "cell_type": "markdown",
      "metadata": {
        "id": "kWu37n8hneR_",
        "colab_type": "text"
      },
      "source": [
        "Process data and calculate indexes"
      ]
    },
    {
      "cell_type": "code",
      "metadata": {
        "id": "WRVOUeB4neR_",
        "colab_type": "code",
        "colab": {
          "base_uri": "https://localhost:8080/",
          "height": 34
        },
        "outputId": "c74c9cdc-a6c6-4af3-d725-d8b849ab0a23"
      },
      "source": [
        "chars = sorted(set(data))\n",
        "data_size, X_size = len(data), len(chars)\n",
        "print(\"data has %d characters, %d unique\" % (data_size, X_size))\n",
        "char_to_idx = {ch:i for i,ch in enumerate(chars)}\n",
        "idx_to_char = {i:ch for i,ch in enumerate(chars)}"
      ],
      "execution_count": 6,
      "outputs": [
        {
          "output_type": "stream",
          "text": [
            "data has 1115394 characters, 65 unique\n"
          ],
          "name": "stdout"
        }
      ]
    },
    {
      "cell_type": "markdown",
      "metadata": {
        "id": "ehqslELCneSC",
        "colab_type": "text"
      },
      "source": [
        "### Constants and Hyperparameters"
      ]
    },
    {
      "cell_type": "code",
      "metadata": {
        "id": "Jo2xG8t2neSD",
        "colab_type": "code",
        "colab": {}
      },
      "source": [
        "H_size = 100 # Size of the hidden layer\n",
        "T_steps = 25 # Number of time steps (length of the sequence) used for training\n",
        "learning_rate = 1e-1 # Learning rate\n",
        "weight_sd = 0.1 # Standard deviation of weights for initialization\n",
        "z_size = H_size + X_size # Size of concatenate(H, X) vector"
      ],
      "execution_count": 0,
      "outputs": []
    },
    {
      "cell_type": "markdown",
      "metadata": {
        "id": "RrRtkFEfneSF",
        "colab_type": "text"
      },
      "source": [
        "### Activation Functions and Derivatives\n",
        "\n",
        "#### Sigmoid\n",
        "\n",
        "\\begin{align}\n",
        "\\sigma(x) &= \\frac{1}{1 + e^{-x}}\\\\\n",
        "\\frac{d\\sigma(x)}{dx} &= \\sigma(x) \\cdot (1 - \\sigma(x))\n",
        "\\end{align}\n",
        "\n",
        "#### Tanh\n",
        "\n",
        "\\begin{align}\n",
        "\\frac{d\\text{tanh}(x)}{dx} &= 1 - \\text{tanh}^2(x)\n",
        "\\end{align}"
      ]
    },
    {
      "cell_type": "code",
      "metadata": {
        "id": "Dlf9UoN9neSG",
        "colab_type": "code",
        "colab": {}
      },
      "source": [
        "def sigmoid(x):\n",
        "    return 1 / (1 + np.exp(-x))\n",
        "\n",
        "\n",
        "def dsigmoid(y):\n",
        "    return y * (1 - y)\n",
        "\n",
        "\n",
        "def tanh(x):\n",
        "    return np.tanh(x)\n",
        "\n",
        "\n",
        "def dtanh(y):\n",
        "    return 1 - y * y"
      ],
      "execution_count": 0,
      "outputs": []
    },
    {
      "cell_type": "markdown",
      "metadata": {
        "id": "iRl-xLIuneSI",
        "colab_type": "text"
      },
      "source": [
        "### Parameters"
      ]
    },
    {
      "cell_type": "code",
      "metadata": {
        "id": "PlLb9aXoneSJ",
        "colab_type": "code",
        "colab": {}
      },
      "source": [
        "class Param:\n",
        "    def __init__(self, name, value):\n",
        "        self.name = name\n",
        "        self.v = value #parameter value\n",
        "        self.d = np.zeros_like(value) #derivative\n",
        "        self.m = np.zeros_like(value) #momentum for AdaGrad"
      ],
      "execution_count": 0,
      "outputs": []
    },
    {
      "cell_type": "markdown",
      "metadata": {
        "id": "UsdK5Iy6neSL",
        "colab_type": "text"
      },
      "source": [
        "We use random weights with normal distribution (`0`, `weight_sd`) for $tanh$ activation function and (`0.5`, `weight_sd`) for $sigmoid$ activation function.\n",
        "\n",
        "Biases are initialized to zeros."
      ]
    },
    {
      "cell_type": "code",
      "metadata": {
        "id": "DnrLvTwkneSL",
        "colab_type": "code",
        "colab": {}
      },
      "source": [
        "class Parameters:\n",
        "    def __init__(self):\n",
        "        self.W_f = Param('W_f', \n",
        "                         np.random.randn(H_size, z_size) * weight_sd + 0.5)\n",
        "        self.b_f = Param('b_f',\n",
        "                         np.zeros((H_size, 1)))\n",
        "\n",
        "        self.W_i = Param('W_i',\n",
        "                         np.random.randn(H_size, z_size) * weight_sd + 0.5)\n",
        "        self.b_i = Param('b_i',\n",
        "                         np.zeros((H_size, 1)))\n",
        "\n",
        "        self.W_C = Param('W_C',\n",
        "                         np.random.randn(H_size, z_size) * weight_sd)\n",
        "        self.b_C = Param('b_C',\n",
        "                         np.zeros((H_size, 1)))\n",
        "\n",
        "        self.W_o = Param('W_o',\n",
        "                         np.random.randn(H_size, z_size) * weight_sd + 0.5)\n",
        "        self.b_o = Param('b_o',\n",
        "                         np.zeros((H_size, 1)))\n",
        "\n",
        "        #For final layer to predict the next character\n",
        "        self.W_v = Param('W_v',\n",
        "                         np.random.randn(X_size, H_size) * weight_sd)\n",
        "        self.b_v = Param('b_v',\n",
        "                         np.zeros((X_size, 1)))\n",
        "        \n",
        "    def all(self):\n",
        "        return [self.W_f, self.W_i, self.W_C, self.W_o, self.W_v,\n",
        "               self.b_f, self.b_i, self.b_C, self.b_o, self.b_v]\n",
        "        \n",
        "parameters = Parameters()"
      ],
      "execution_count": 0,
      "outputs": []
    },
    {
      "cell_type": "markdown",
      "metadata": {
        "id": "8g-TnQqJneSO",
        "colab_type": "text"
      },
      "source": [
        "### Forward pass\n",
        "\n",
        "![LSTM](http://blog.varunajayasiri.com/ml/lstm.svg)\n",
        "\n",
        "*Operation $z$ is the concatenation of $x$ and $h_{t-1}$*\n",
        "\n",
        "#### Concatenation of $h_{t-1}$ and $x_t$\n",
        "\\begin{align}\n",
        "z & = [h_{t-1}, x_t] \\\\\n",
        "\\end{align}\n",
        "\n",
        "#### LSTM functions\n",
        "\\begin{align}\n",
        "f_t & = \\sigma(W_f \\cdot z + b_f) \\\\\n",
        "i_t & = \\sigma(W_i \\cdot z + b_i) \\\\\n",
        "\\bar{C}_t & = tanh(W_C \\cdot z + b_C) \\\\\n",
        "C_t & = f_t * C_{t-1} + i_t * \\bar{C}_t \\\\\n",
        "o_t & = \\sigma(W_o \\cdot z + b_t) \\\\\n",
        "h_t &= o_t * tanh(C_t) \\\\\n",
        "\\end{align}\n",
        "\n",
        "#### Logits\n",
        "\\begin{align}\n",
        "v_t &= W_v \\cdot h_t + b_v \\\\\n",
        "\\end{align}\n",
        "\n",
        "#### Softmax\n",
        "\\begin{align}\n",
        "\\hat{y_t} &= \\text{softmax}(v_t)\n",
        "\\end{align}\n",
        "\n",
        "$\\hat{y_t}$ is `y` in code and $y_t$ is `targets`.\n"
      ]
    },
    {
      "cell_type": "code",
      "metadata": {
        "id": "vVO7vyUxneSP",
        "colab_type": "code",
        "colab": {}
      },
      "source": [
        "def forward(x, h_prev, C_prev, p = parameters):\n",
        "    assert x.shape == (X_size, 1)\n",
        "    assert h_prev.shape == (H_size, 1)\n",
        "    assert C_prev.shape == (H_size, 1)\n",
        "    \n",
        "    z = np.row_stack((h_prev, x))\n",
        "    f = sigmoid(np.dot(p.W_f.v, z) + p.b_f.v)\n",
        "    i = sigmoid(np.dot(p.W_i.v, z) + p.b_i.v)\n",
        "    C_bar = tanh(np.dot(p.W_C.v, z) + p.b_C.v)\n",
        "\n",
        "    C = f * C_prev + i * C_bar\n",
        "    o = sigmoid(np.dot(p.W_o.v, z) + p.b_o.v)\n",
        "    h = o * tanh(C)\n",
        "\n",
        "    v = np.dot(p.W_v.v, h) + p.b_v.v\n",
        "    y = np.exp(v) / np.sum(np.exp(v)) #softmax\n",
        "\n",
        "    return z, f, i, C_bar, C, o, h, v, y"
      ],
      "execution_count": 0,
      "outputs": []
    },
    {
      "cell_type": "markdown",
      "metadata": {
        "id": "6HkGYNcNneSR",
        "colab_type": "text"
      },
      "source": [
        "### Backward pass\n",
        "\n",
        "#### Loss\n",
        "\n",
        "\\begin{align}\n",
        "L_k &= -\\sum_{t=k}^T\\sum_j y_{t,j} log \\hat{y_{t,j}} \\\\\n",
        "L &= L_1 \\\\\n",
        "\\end{align}\n",
        "\n",
        "#### Gradients\n",
        "\n",
        "\\begin{align}\n",
        "dv_t &= \\hat{y_t} - y_t \\\\\n",
        "dh_t &= dh'_t + W_y^T \\cdot dv_t \\\\\n",
        "do_t &= dh_t * \\text{tanh}(C_t) \\\\\n",
        "dC_t &= dC'_t + dh_t * o_t * (1 - \\text{tanh}^2(C_t))\\\\\n",
        "d\\bar{C}_t &= dC_t * i_t \\\\\n",
        "di_t &= dC_t * \\bar{C}_t \\\\\n",
        "df_t &= dC_t * C_{t-1} \\\\\n",
        "\\\\\n",
        "df'_t &= f_t * (1 - f_t) * df_t \\\\\n",
        "di'_t &= i_t * (1 - i_t) * di_t \\\\\n",
        "d\\bar{C}'_{t-1} &= (1 - \\bar{C}_t^2) * d\\bar{C}_t \\\\\n",
        "do'_t &= o_t * (1 - o_t) * do_t \\\\\n",
        "dz_t &= W_f^T \\cdot df'_t \\\\\n",
        "     &+ W_i^T \\cdot di_t \\\\\n",
        "     &+ W_C^T \\cdot d\\bar{C}_t \\\\\n",
        "     &+ W_o^T \\cdot do_t \\\\\n",
        "\\\\\n",
        "[dh'_{t-1}, dx_t] &= dz_t \\\\\n",
        "dC'_t &= f_t * dC_t\n",
        "\\end{align}\n",
        "\n",
        "* $dC'_t = \\frac{\\partial L_{t+1}}{\\partial C_t}$ and $dh'_t = \\frac{\\partial L_{t+1}}{\\partial h_t}$\n",
        "* $dC_t = \\frac{\\partial L}{\\partial C_t} = \\frac{\\partial L_t}{\\partial C_t}$ and $dh_t = \\frac{\\partial L}{\\partial h_t} = \\frac{\\partial L_{t}}{\\partial h_t}$\n",
        "* All other derivatives are of $L$\n",
        "* `target` is target character index $y_t$\n",
        "* `dh_next` is $dh'_{t}$ (size H x 1)\n",
        "* `dC_next` is $dC'_{t}$ (size H x 1)\n",
        "* `C_prev` is $C_{t-1}$ (size H x 1)\n",
        "* $df'_t$, $di'_t$, $d\\bar{C}'_t$, and $do'_t$ are *also* assigned to `df`, `di`, `dC_bar`, and `do` in the **code**.\n",
        "* *Returns* $dh_t$ and $dC_t$\n",
        "\n",
        "#### Model parameter gradients\n",
        "\n",
        "\\begin{align}\n",
        "dW_v &= dv_t \\cdot h_t^T \\\\\n",
        "db_v &= dv_t \\\\\n",
        "\\\\\n",
        "dW_f &= df'_t \\cdot z^T \\\\\n",
        "db_f &= df'_t \\\\\n",
        "\\\\\n",
        "dW_i &= di'_t \\cdot z^T \\\\\n",
        "db_i &= di'_t \\\\\n",
        "\\\\\n",
        "dW_C &= d\\bar{C}'_t \\cdot z^T \\\\\n",
        "db_C &= d\\bar{C}'_t \\\\\n",
        "\\\\\n",
        "dW_o &= do'_t \\cdot z^T \\\\\n",
        "db_o &= do'_t \\\\\n",
        "\\\\\n",
        "\\end{align}"
      ]
    },
    {
      "cell_type": "code",
      "metadata": {
        "id": "lcvyNawfneSS",
        "colab_type": "code",
        "colab": {}
      },
      "source": [
        "def backward(target, dh_next, dC_next, C_prev,\n",
        "             z, f, i, C_bar, C, o, h, v, y,\n",
        "             p = parameters):\n",
        "    \n",
        "    assert z.shape == (X_size + H_size, 1)\n",
        "    assert v.shape == (X_size, 1)\n",
        "    assert y.shape == (X_size, 1)\n",
        "    \n",
        "    for param in [dh_next, dC_next, C_prev, f, i, C_bar, C, o, h]:\n",
        "        assert param.shape == (H_size, 1)\n",
        "        \n",
        "    dv = np.copy(y)\n",
        "    dv[target] -= 1\n",
        "\n",
        "    p.W_v.d += np.dot(dv, h.T)\n",
        "    p.b_v.d += dv\n",
        "\n",
        "    dh = np.dot(p.W_v.v.T, dv)        \n",
        "    dh += dh_next\n",
        "    do = dh * tanh(C)\n",
        "    do = dsigmoid(o) * do\n",
        "    p.W_o.d += np.dot(do, z.T)\n",
        "    p.b_o.d += do\n",
        "\n",
        "    dC = np.copy(dC_next)\n",
        "    dC += dh * o * dtanh(tanh(C))\n",
        "    dC_bar = dC * i\n",
        "    dC_bar = dtanh(C_bar) * dC_bar\n",
        "    p.W_C.d += np.dot(dC_bar, z.T)\n",
        "    p.b_C.d += dC_bar\n",
        "\n",
        "    di = dC * C_bar\n",
        "    di = dsigmoid(i) * di\n",
        "    p.W_i.d += np.dot(di, z.T)\n",
        "    p.b_i.d += di\n",
        "\n",
        "    df = dC * C_prev\n",
        "    df = dsigmoid(f) * df\n",
        "    p.W_f.d += np.dot(df, z.T)\n",
        "    p.b_f.d += df\n",
        "\n",
        "    dz = (np.dot(p.W_f.v.T, df)\n",
        "         + np.dot(p.W_i.v.T, di)\n",
        "         + np.dot(p.W_C.v.T, dC_bar)\n",
        "         + np.dot(p.W_o.v.T, do))\n",
        "    dh_prev = dz[:H_size, :]\n",
        "    dC_prev = f * dC\n",
        "    \n",
        "    return dh_prev, dC_prev"
      ],
      "execution_count": 0,
      "outputs": []
    },
    {
      "cell_type": "markdown",
      "metadata": {
        "id": "lcky8BdhneSU",
        "colab_type": "text"
      },
      "source": [
        "### Forward Backward Pass"
      ]
    },
    {
      "cell_type": "markdown",
      "metadata": {
        "id": "17NGSWN1neSU",
        "colab_type": "text"
      },
      "source": [
        "Clear gradients before each backward pass"
      ]
    },
    {
      "cell_type": "code",
      "metadata": {
        "id": "KDUlTIumneSV",
        "colab_type": "code",
        "colab": {}
      },
      "source": [
        "def clear_gradients(params = parameters):\n",
        "    for p in params.all():\n",
        "        p.d.fill(0)"
      ],
      "execution_count": 0,
      "outputs": []
    },
    {
      "cell_type": "markdown",
      "metadata": {
        "id": "q-VzhZT6neSX",
        "colab_type": "text"
      },
      "source": [
        "Clip gradients to mitigate exploding gradients"
      ]
    },
    {
      "cell_type": "code",
      "metadata": {
        "id": "iG259JmCneSY",
        "colab_type": "code",
        "colab": {}
      },
      "source": [
        "def clip_gradients(params = parameters):\n",
        "    for p in params.all():\n",
        "        np.clip(p.d, -1, 1, out=p.d)"
      ],
      "execution_count": 0,
      "outputs": []
    },
    {
      "cell_type": "markdown",
      "metadata": {
        "id": "TPxzNNWcneSa",
        "colab_type": "text"
      },
      "source": [
        "Calculate and store the values in forward pass. Accumulate gradients in backward pass and clip gradients to avoid exploding gradients.\n",
        "\n",
        "* `input`, `target` are list of integers, with character indexes.\n",
        "* `h_prev` is the array of initial `h` at $h_{-1}$ (size H x 1)\n",
        "* `C_prev` is the array of initial `C` at $C_{-1}$ (size H x 1)\n",
        "* *Returns* loss, final $h_T$ and $C_T$"
      ]
    },
    {
      "cell_type": "code",
      "metadata": {
        "id": "FQ9iK0Y4neSb",
        "colab_type": "code",
        "colab": {}
      },
      "source": [
        "def forward_backward(inputs, targets, h_prev, C_prev):\n",
        "    global paramters\n",
        "    \n",
        "    # To store the values for each time step\n",
        "    x_s, z_s, f_s, i_s,  = {}, {}, {}, {}\n",
        "    C_bar_s, C_s, o_s, h_s = {}, {}, {}, {}\n",
        "    v_s, y_s =  {}, {}\n",
        "    \n",
        "    # Values at t - 1\n",
        "    h_s[-1] = np.copy(h_prev)\n",
        "    C_s[-1] = np.copy(C_prev)\n",
        "    \n",
        "    loss = 0\n",
        "    # Loop through time steps\n",
        "    assert len(inputs) == T_steps\n",
        "    for t in range(len(inputs)):\n",
        "        x_s[t] = np.zeros((X_size, 1))\n",
        "        x_s[t][inputs[t]] = 1 # Input character\n",
        "        \n",
        "        (z_s[t], f_s[t], i_s[t],\n",
        "        C_bar_s[t], C_s[t], o_s[t], h_s[t],\n",
        "        v_s[t], y_s[t]) = \\\n",
        "            forward(x_s[t], h_s[t - 1], C_s[t - 1]) # Forward pass\n",
        "            \n",
        "        loss += -np.log(y_s[t][targets[t], 0]) # Loss for at t\n",
        "        \n",
        "    clear_gradients()\n",
        "\n",
        "    dh_next = np.zeros_like(h_s[0]) #dh from the next character\n",
        "    dC_next = np.zeros_like(C_s[0]) #dh from the next character\n",
        "\n",
        "    for t in reversed(range(len(inputs))):\n",
        "        # Backward pass\n",
        "        dh_next, dC_next = \\\n",
        "            backward(target = targets[t], dh_next = dh_next,\n",
        "                     dC_next = dC_next, C_prev = C_s[t-1],\n",
        "                     z = z_s[t], f = f_s[t], i = i_s[t], C_bar = C_bar_s[t],\n",
        "                     C = C_s[t], o = o_s[t], h = h_s[t], v = v_s[t],\n",
        "                     y = y_s[t])\n",
        "\n",
        "    clip_gradients()\n",
        "        \n",
        "    return loss, h_s[len(inputs) - 1], C_s[len(inputs) - 1]"
      ],
      "execution_count": 0,
      "outputs": []
    },
    {
      "cell_type": "markdown",
      "metadata": {
        "id": "3jJm7OtDneSd",
        "colab_type": "text"
      },
      "source": [
        "### Sample the next character"
      ]
    },
    {
      "cell_type": "code",
      "metadata": {
        "id": "MzJtZBQyneSe",
        "colab_type": "code",
        "colab": {}
      },
      "source": [
        "def sample(h_prev, C_prev, first_char_idx, sentence_length):\n",
        "    x = np.zeros((X_size, 1))\n",
        "    x[first_char_idx] = 1\n",
        "\n",
        "    h = h_prev\n",
        "    C = C_prev\n",
        "\n",
        "    indexes = []\n",
        "    \n",
        "    for t in range(sentence_length):\n",
        "        _, _, _, _, C, _, h, _, p = forward(x, h, C)\n",
        "        idx = np.random.choice(range(X_size), p=p.ravel())\n",
        "        x = np.zeros((X_size, 1))\n",
        "        x[idx] = 1\n",
        "        indexes.append(idx)\n",
        "\n",
        "    return indexes"
      ],
      "execution_count": 0,
      "outputs": []
    },
    {
      "cell_type": "markdown",
      "metadata": {
        "id": "-Onk7HRTneSg",
        "colab_type": "text"
      },
      "source": [
        "## Training (Adagrad)"
      ]
    },
    {
      "cell_type": "markdown",
      "metadata": {
        "id": "fu5COYPyneSh",
        "colab_type": "text"
      },
      "source": [
        "Update the graph and display a sample output"
      ]
    },
    {
      "cell_type": "code",
      "metadata": {
        "id": "qGof2rpnneSh",
        "colab_type": "code",
        "colab": {}
      },
      "source": [
        "def update_status(inputs, h_prev, C_prev):\n",
        "    #initialized later\n",
        "    global plot_iter, plot_loss\n",
        "    global smooth_loss\n",
        "    \n",
        "    # Get predictions for 200 letters with current model\n",
        "\n",
        "    sample_idx = sample(h_prev, C_prev, inputs[0], 200)\n",
        "    txt = ''.join(idx_to_char[idx] for idx in sample_idx)\n",
        "\n",
        "    # Clear and plot\n",
        "    plt.plot(plot_iter, plot_loss)\n",
        "    display.clear_output(wait=True)\n",
        "    plt.show()\n",
        "\n",
        "    #Print prediction and loss\n",
        "    print(\"----\\n %s \\n----\" % (txt, ))\n",
        "    print(\"iter %d, loss %f\" % (iteration, smooth_loss))"
      ],
      "execution_count": 0,
      "outputs": []
    },
    {
      "cell_type": "markdown",
      "metadata": {
        "id": "MkalaiVwneSj",
        "colab_type": "text"
      },
      "source": [
        "Update parameters\n",
        "\n",
        "\\begin{align}\n",
        "\\theta_i &= \\theta_i - \\eta\\frac{d\\theta_i}{\\sum dw_{\\tau}^2} \\\\\n",
        "d\\theta_i &= \\frac{\\partial L}{\\partial \\theta_i}\n",
        "\\end{align}"
      ]
    },
    {
      "cell_type": "code",
      "metadata": {
        "id": "7icZyq68neSk",
        "colab_type": "code",
        "colab": {}
      },
      "source": [
        "def update_paramters(params = parameters):\n",
        "    for p in params.all():\n",
        "        p.m += p.d * p.d # Calculate sum of gradients\n",
        "        #print(learning_rate * dparam)\n",
        "        p.v += -(learning_rate * p.d / np.sqrt(p.m + 1e-8))"
      ],
      "execution_count": 0,
      "outputs": []
    },
    {
      "cell_type": "markdown",
      "metadata": {
        "id": "Zsd6RvNfneSn",
        "colab_type": "text"
      },
      "source": [
        "To delay the keyboard interrupt to prevent the training \n",
        "from stopping in the middle of an iteration "
      ]
    },
    {
      "cell_type": "code",
      "metadata": {
        "id": "MGPwT3qPneSo",
        "colab_type": "code",
        "colab": {}
      },
      "source": [
        "import signal\n",
        "\n",
        "class DelayedKeyboardInterrupt(object):\n",
        "    def __enter__(self):\n",
        "        self.signal_received = False\n",
        "        self.old_handler = signal.signal(signal.SIGINT, self.handler)\n",
        "\n",
        "    def handler(self, sig, frame):\n",
        "        self.signal_received = (sig, frame)\n",
        "        print('SIGINT received. Delaying KeyboardInterrupt.')\n",
        "\n",
        "    def __exit__(self, type, value, traceback):\n",
        "        signal.signal(signal.SIGINT, self.old_handler)\n",
        "        if self.signal_received:\n",
        "            self.old_handler(*self.signal_received)"
      ],
      "execution_count": 0,
      "outputs": []
    },
    {
      "cell_type": "code",
      "metadata": {
        "id": "CWzRfYTJneSr",
        "colab_type": "code",
        "colab": {}
      },
      "source": [
        "# Exponential average of loss\n",
        "# Initialize to a error of a random model\n",
        "smooth_loss = -np.log(1.0 / X_size) * T_steps\n",
        "\n",
        "iteration, pointer = 0, 0\n",
        "\n",
        "# For the graph\n",
        "plot_iter = np.zeros((0))\n",
        "plot_loss = np.zeros((0))"
      ],
      "execution_count": 0,
      "outputs": []
    },
    {
      "cell_type": "markdown",
      "metadata": {
        "id": "NMPYdzKYneSt",
        "colab_type": "text"
      },
      "source": [
        "Training loop"
      ]
    },
    {
      "cell_type": "code",
      "metadata": {
        "id": "kLYlom_ineSu",
        "colab_type": "code",
        "colab": {
          "base_uri": "https://localhost:8080/",
          "height": 449
        },
        "outputId": "6b5b70b5-b138-414e-f8e2-77886dae7877"
      },
      "source": [
        "while True:\n",
        "    try:\n",
        "        with DelayedKeyboardInterrupt():\n",
        "            # Reset\n",
        "            if pointer + T_steps >= len(data) or iteration == 0:\n",
        "                g_h_prev = np.zeros((H_size, 1))\n",
        "                g_C_prev = np.zeros((H_size, 1))\n",
        "                pointer = 0\n",
        "\n",
        "\n",
        "            inputs = ([char_to_idx[ch] \n",
        "                       for ch in data[pointer: pointer + T_steps]])\n",
        "            targets = ([char_to_idx[ch] \n",
        "                        for ch in data[pointer + 1: pointer + T_steps + 1]])\n",
        "\n",
        "            loss, g_h_prev, g_C_prev = \\\n",
        "                forward_backward(inputs, targets, g_h_prev, g_C_prev)\n",
        "            smooth_loss = smooth_loss * 0.999 + loss * 0.001\n",
        "\n",
        "            # Print every hundred steps\n",
        "            if iteration % 100 == 0:\n",
        "                update_status(inputs, g_h_prev, g_C_prev)\n",
        "\n",
        "            update_paramters()\n",
        "\n",
        "            plot_iter = np.append(plot_iter, [iteration])\n",
        "            plot_loss = np.append(plot_loss, [loss])\n",
        "\n",
        "            pointer += T_steps\n",
        "            iteration += 1\n",
        "    except KeyboardInterrupt:\n",
        "        update_status(inputs, g_h_prev, g_C_prev)\n",
        "        break"
      ],
      "execution_count": 21,
      "outputs": [
        {
          "output_type": "display_data",
          "data": {
            "image/png": "[encoded data removed]",
            "text/plain": [
              "<Figure size 432x288 with 1 Axes>"
            ]
          },
          "metadata": {
            "tags": []
          }
        },
        {
          "output_type": "stream",
          "text": [
            "----\n",
            " mt' thof Abt ber paisthot he oaran res\n",
            "Tow mdeouls\n",
            "vNge\n",
            "Thafbom. Ahaen tils taam hou,, Patcrt yeu hatstc\n",
            "\n",
            "thon fa ulc, li:\n",
            "War ards aad cl lds au, em: dith Iuzosn\n",
            "Ad you senlyovde Vket covs harsns cig \n",
            "----\n",
            "iter 871, loss 85.646556\n"
          ],
          "name": "stdout"
        }
      ]
    },
    {
      "cell_type": "markdown",
      "metadata": {
        "id": "KbPwwVM5neSx",
        "colab_type": "text"
      },
      "source": [
        "### Gradient Check\n",
        "\n",
        "Approximate the numerical gradients by changing parameters and running the model. Check if the approximated gradients are equal to the computed analytical gradients (by backpropagation).\n",
        "\n",
        "Try this on `num_checks` individual paramters picked randomly for each weight matrix and bias vector."
      ]
    },
    {
      "cell_type": "code",
      "metadata": {
        "id": "IxjIx3mHneSx",
        "colab_type": "code",
        "colab": {}
      },
      "source": [
        "from random import uniform"
      ],
      "execution_count": 0,
      "outputs": []
    },
    {
      "cell_type": "markdown",
      "metadata": {
        "id": "eF4JHQ1pneSz",
        "colab_type": "text"
      },
      "source": [
        "Calculate numerical gradient"
      ]
    },
    {
      "cell_type": "code",
      "metadata": {
        "id": "rCiQDJfkneS0",
        "colab_type": "code",
        "colab": {}
      },
      "source": [
        "def calc_numerical_gradient(param, idx, delta, inputs, target, h_prev, C_prev):\n",
        "    old_val = param.v.flat[idx]\n",
        "    \n",
        "    # evaluate loss at [x + delta] and [x - delta]\n",
        "    param.v.flat[idx] = old_val + delta\n",
        "    loss_plus_delta, _, _ = forward_backward(inputs, targets,\n",
        "                                             h_prev, C_prev)\n",
        "    param.v.flat[idx] = old_val - delta\n",
        "    loss_mins_delta, _, _ = forward_backward(inputs, targets, \n",
        "                                             h_prev, C_prev)\n",
        "    \n",
        "    param.v.flat[idx] = old_val #reset\n",
        "\n",
        "    grad_numerical = (loss_plus_delta - loss_mins_delta) / (2 * delta)\n",
        "    # Clip numerical error because analytical gradient is clipped\n",
        "    [grad_numerical] = np.clip([grad_numerical], -1, 1) \n",
        "    \n",
        "    return grad_numerical"
      ],
      "execution_count": 0,
      "outputs": []
    },
    {
      "cell_type": "markdown",
      "metadata": {
        "id": "uT_4w49MneS4",
        "colab_type": "text"
      },
      "source": [
        "Check gradient of each paramter matrix/vector at `num_checks` individual values"
      ]
    },
    {
      "cell_type": "code",
      "metadata": {
        "id": "9VCfTpcKneS4",
        "colab_type": "code",
        "colab": {}
      },
      "source": [
        "def gradient_check(num_checks, delta, inputs, target, h_prev, C_prev):\n",
        "    global parameters\n",
        "    \n",
        "    # To calculate computed gradients\n",
        "    _, _, _ =  forward_backward(inputs, targets, h_prev, C_prev)\n",
        "    \n",
        "    \n",
        "    for param in parameters.all():\n",
        "        #Make a copy because this will get modified\n",
        "        d_copy = np.copy(param.d)\n",
        "\n",
        "        # Test num_checks times\n",
        "        for i in range(num_checks):\n",
        "            # Pick a random index\n",
        "            rnd_idx = int(uniform(0, param.v.size))\n",
        "            \n",
        "            grad_numerical = calc_numerical_gradient(param,\n",
        "                                                     rnd_idx,\n",
        "                                                     delta,\n",
        "                                                     inputs,\n",
        "                                                     target,\n",
        "                                                     h_prev, C_prev)\n",
        "            grad_analytical = d_copy.flat[rnd_idx]\n",
        "\n",
        "            err_sum = abs(grad_numerical + grad_analytical) + 1e-09\n",
        "            rel_error = abs(grad_analytical - grad_numerical) / err_sum\n",
        "            \n",
        "            # If relative error is greater than 1e-06\n",
        "            if rel_error > 1e-06:\n",
        "                print('%s (%e, %e) => %e'\n",
        "                      % (param.name, grad_numerical, grad_analytical, rel_error))"
      ],
      "execution_count": 0,
      "outputs": []
    },
    {
      "cell_type": "code",
      "metadata": {
        "scrolled": false,
        "id": "RakAtQyDneS6",
        "colab_type": "code",
        "colab": {}
      },
      "source": [
        "gradient_check(10, 1e-5, inputs, targets, g_h_prev, g_C_prev)"
      ],
      "execution_count": 0,
      "outputs": []
    }
  ]
}